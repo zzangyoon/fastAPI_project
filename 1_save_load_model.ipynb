{
 "cells": [
  {
   "cell_type": "markdown",
   "id": "a3855637",
   "metadata": {},
   "source": [
    "# 모델 저장 및 불러오기"
   ]
  },
  {
   "cell_type": "markdown",
   "id": "f6bb61e0",
   "metadata": {},
   "source": [
    "```\n",
    "uv pip install torch torchvision --index-url https://download.pytorch.org/whl/cu126\n",
    "uv run tensorboard --logdir=runs\n",
    "```"
   ]
  },
  {
   "cell_type": "code",
   "execution_count": 1,
   "id": "f285547b",
   "metadata": {},
   "outputs": [],
   "source": [
    "import torch\n",
    "import torch.nn as nn"
   ]
  },
  {
   "cell_type": "markdown",
   "id": "3a00b4ab",
   "metadata": {},
   "source": [
    "# 모델 저장"
   ]
  },
  {
   "cell_type": "markdown",
   "id": "bc94951c",
   "metadata": {},
   "source": [
    "## 1. 모델의 가중치만 저장"
   ]
  },
  {
   "cell_type": "markdown",
   "id": "68323e60",
   "metadata": {},
   "source": [
    "- model.state_dict()\n",
    "- 가장 많이 쓰는 방식\n",
    "- 학습시켰던 모델의 형태를 똑같이 가져와야함 (같은 구조 정의 필요)\n",
    "- 저장 이름은 '클래스명_weight.pth' 추천"
   ]
  },
  {
   "cell_type": "code",
   "execution_count": null,
   "id": "ba3d559b",
   "metadata": {},
   "outputs": [],
   "source": [
    "class SimpleModel(nn.Module):\n",
    "    def __init__(self) :\n",
    "        super(SimpleModel, self).__init__()\n",
    "        self.fc = nn.Linear(10, 2)\n",
    "\n",
    "    def forward(self, x) :\n",
    "        return self.fc(x)\n",
    "\n",
    "model = SimpleModel()\n",
    "\n",
    "# 학습 후 저장\n",
    "torch.save(model.state_dict(), \"model/simpleModel_weight.pth\")"
   ]
  },
  {
   "cell_type": "markdown",
   "id": "5d9f3235",
   "metadata": {},
   "source": [
    "## 2. 모델 전체 저장"
   ]
  },
  {
   "cell_type": "code",
   "execution_count": 5,
   "id": "8dec9291",
   "metadata": {},
   "outputs": [],
   "source": [
    "class SimpleModel(nn.Module):\n",
    "    def __init__(self) :\n",
    "        super(SimpleModel, self).__init__()\n",
    "        self.fc = nn.Linear(10, 2)\n",
    "\n",
    "    def forward(self, x) :\n",
    "        return self.fc(x)\n",
    "\n",
    "model = SimpleModel()\n",
    "\n",
    "# 저장\n",
    "torch.save(model, \"model/simpleModel_full.pth\")"
   ]
  },
  {
   "cell_type": "markdown",
   "id": "38aff97c",
   "metadata": {},
   "source": [
    "# 모델 불러오기"
   ]
  },
  {
   "cell_type": "markdown",
   "id": "3a7a212f",
   "metadata": {},
   "source": [
    "## 1. 가중치만 저장한 모델 불러오기"
   ]
  },
  {
   "cell_type": "code",
   "execution_count": null,
   "id": "47803227",
   "metadata": {},
   "outputs": [
    {
     "data": {
      "text/plain": [
       "<All keys matched successfully>"
      ]
     },
     "execution_count": 6,
     "metadata": {},
     "output_type": "execute_result"
    }
   ],
   "source": [
    "# 같은 구조 정의 필요\n",
    "class SimpleModel(nn.Module):\n",
    "    def __init__(self) :\n",
    "        super(SimpleModel, self).__init__()\n",
    "        self.fc = nn.Linear(10, 2)\n",
    "\n",
    "    def forward(self, x) :\n",
    "        return self.fc(x)\n",
    "\n",
    "model = SimpleModel()\n",
    "\n",
    "model = model.load_state_dict(torch.load(\"model/simpleModel_weight.pth\"))\n",
    "model"
   ]
  },
  {
   "cell_type": "markdown",
   "id": "d7477088",
   "metadata": {},
   "source": [
    "## 2. 전체 저장 모델 불러오기"
   ]
  },
  {
   "cell_type": "code",
   "execution_count": null,
   "id": "0e0a9bd1",
   "metadata": {},
   "outputs": [],
   "source": [
    "import torch\n",
    "\n",
    "model = torch.load(\"model/simpleModel_full.pth\", weights_only=False)\n",
    "model"
   ]
  }
 ],
 "metadata": {
  "kernelspec": {
   "display_name": "fastapi-project",
   "language": "python",
   "name": "python3"
  },
  "language_info": {
   "codemirror_mode": {
    "name": "ipython",
    "version": 3
   },
   "file_extension": ".py",
   "mimetype": "text/x-python",
   "name": "python",
   "nbconvert_exporter": "python",
   "pygments_lexer": "ipython3",
   "version": "3.11.13"
  }
 },
 "nbformat": 4,
 "nbformat_minor": 5
}
