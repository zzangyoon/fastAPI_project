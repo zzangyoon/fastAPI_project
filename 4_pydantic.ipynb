{
 "cells": [
  {
   "cell_type": "code",
   "execution_count": null,
   "id": "bbb2e665",
   "metadata": {},
   "outputs": [
    {
     "data": {
      "text/plain": [
       "User(id=1234, name='홍길동', age=30, is_active=True)"
      ]
     },
     "execution_count": 1,
     "metadata": {},
     "output_type": "execute_result"
    }
   ],
   "source": [
    "from pydantic import BaseModel\n",
    "\n",
    "class User(BaseModel) :\n",
    "    id: int\n",
    "    name: str\n",
    "    age: int\n",
    "    is_active: bool = True      # 기본값 설정\n",
    "\n",
    "user1 = User(id=\"1234\", name=\"홍길동\", age=30)\n",
    "user1\n",
    "\n",
    "# id(int)가 string으로 들어갔지만, 바로잡아줌\n",
    "# 이런 실수들을 잡아주기 때문에 pydantic을 사용\n",
    "# 데이터의 유효성 유지 -> pydantic"
   ]
  },
  {
   "cell_type": "code",
   "execution_count": 2,
   "id": "df59e700",
   "metadata": {},
   "outputs": [
    {
     "name": "stderr",
     "output_type": "stream",
     "text": [
      "C:\\Users\\user\\AppData\\Local\\Temp\\ipykernel_44176\\34653887.py:1: PydanticDeprecatedSince20: The `json` method is deprecated; use `model_dump_json` instead. Deprecated in Pydantic V2.0 to be removed in V3.0. See Pydantic V2 Migration Guide at https://errors.pydantic.dev/2.11/migration/\n",
      "  user1.json()\n"
     ]
    },
    {
     "data": {
      "text/plain": [
       "'{\"id\":1234,\"name\":\"홍길동\",\"age\":30,\"is_active\":true}'"
      ]
     },
     "execution_count": 2,
     "metadata": {},
     "output_type": "execute_result"
    }
   ],
   "source": [
    "user1.json()"
   ]
  }
 ],
 "metadata": {
  "kernelspec": {
   "display_name": "fastapi-project",
   "language": "python",
   "name": "python3"
  },
  "language_info": {
   "codemirror_mode": {
    "name": "ipython",
    "version": 3
   },
   "file_extension": ".py",
   "mimetype": "text/x-python",
   "name": "python",
   "nbconvert_exporter": "python",
   "pygments_lexer": "ipython3",
   "version": "3.11.13"
  }
 },
 "nbformat": 4,
 "nbformat_minor": 5
}
